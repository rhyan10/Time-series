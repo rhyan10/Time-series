{
 "cells": [
  {
   "cell_type": "markdown",
   "metadata": {
    "collapsed": true
   },
   "source": []
  },
  {
   "cell_type": "code",
   "execution_count": null,
   "metadata": {},
   "outputs": [],
   "source": [
    "from numpy import argmax\n",
    "\n",
    "data = 'hello world'\n",
    "alphabet = 'abcdefghijklmnopqrstuvwxyz '\n",
    "\n",
    "char_to_int = dict((c, i) for i, c in enumerate(alphabet))\n",
    "int_to_char = dict((i, c) for i, c in enumerate(alphabet))\n",
    "\n",
    "integer_encoded = [char_to_int[char] for char in data]\n",
    "print(integer_encoded)\n",
    "\n",
    "onehot_encoded = list()\n",
    "for value in integer_encoded:\n",
    "    letter = [0 for _ in range(len(alphabet))]\n",
    "    letter[value] = 1\n",
    "    onehot_encoded.append(letter)\n",
    "print(onehot_encoded)\n",
    "\n",
    "inverted = int_to_char[argmax(onehot_encoded[0])]\n",
    "print(inverted)"
   ]
  },
  {
   "cell_type": "markdown",
   "metadata": {},
   "source": [
    "A mapping of all possible inputs is created from char values to integer values.\n",
    "This mapping is then used to encode the input strinng.\n",
    "The first letter in the input is 'h'. It is encoded with the index of 7 from the alphabet array.\n",
    "Then one hot encoding is done one integer character at a time.\n",
    "A list of 0 values is created from the length of the alphabet so any expected character can be represented.\n",
    "\n",
    "Next the index of specific charracters is marked with a 1.\n",
    "Finally, the encoding of the first letter is inverted and the result is printed.\n",
    "This is done by locating the index of the binary vector with the largest value using the NumPY argmax() function.\n",
    "Then usiing the integer value in a reverse lookup table of character values to integers."
   ]
  },
  {
   "cell_type": "heading",
   "metadata": {},
   "level": 1,
   "source": [
    "One Hot Encoding with scikit-learn"
   ]
  },
  {
   "cell_type": "code",
   "execution_count": null,
   "metadata": {},
   "outputs": [],
   "source": [
    "from numpy import array\n",
    "from numpy import argmax\n",
    "from sklearn.preprocessing import LabelEncoder\n",
    "from sklearn.preprocessing import OneHotEncoder\n",
    "\n",
    "# define data\n",
    "data = ['cold', 'cold', 'warm', 'cold', 'hot', ' hot', 'warm', 'cold', 'warm', 'hot']\n",
    "values = array(data)\n",
    "\n",
    "# integer encoding\n",
    "label_encoder = LabelEncoder()\n",
    "integer_encoded = label_encoder.fit_transform(values)\n",
    "print(integer_encoded)\n",
    "\n",
    "# binary encode\n",
    "onehot_encoder = OneHotEncoder(sparse=False)\n",
    "integer_encoded = integer_encoded.reshape(len(integer_encoded), 1)\n",
    "onehot_encoded = onehot_encoder.fit_transform(integer_encoded)\n",
    "print(onehot_encoded)\n",
    "\n",
    "# invert\n",
    "inverted = label_encoder.inverse_transform([argmax(onehot_encoded[0, :])])\n",
    "print(inverted)"
   ]
  },
  {
   "cell_type": "markdown",
   "metadata": {},
   "source": [
    "OneHotEncoder will return a more efficient sparse encoding.\n",
    "May not be suitable for some applications, such as use with the Keras deep learning library.\n",
    "In this case, disabling the sparse return type by setting the sparse=False argument.\n",
    "\n",
    "When a predicition is recieved in the 3-value one hot encoding, it is easy to invert the transform back into the original label.\n",
    "\n",
    "Use argmax() to locate the intex of the column with the largest value.\n",
    "This is fed into the LabelEncoder to calculate the inverse transform back to a next label.\n",
    "\n",
    "[0 0 2 0 1 1 2 0 2 1]\n",
    " \n",
    "[[ 1.  0.  0.]\n",
    " [ 1.  0.  0.]\n",
    " [ 0.  0.  1.]\n",
    " [ 1.  0.  0.]\n",
    " [ 0.  1.  0.]\n",
    " [ 0.  1.  0.]\n",
    " [ 0.  0.  1.]\n",
    " [ 1.  0.  0.]\n",
    " [ 0.  0.  1.]\n",
    " [ 0.  1.  0.]]\n",
    " \n",
    "['cold']\n"
   ]
  },
  {
   "cell_type": "heading",
   "metadata": {},
   "level": 1,
   "source": [
    "One Hot Encode with Keras"
   ]
  },
  {
   "cell_type": "markdown",
   "metadata": {},
   "source": [
    "One Hot Encode with Keras"
   ]
  },
  {
   "cell_type": "markdown",
   "metadata": {},
   "source": []
  }
 ],
 "metadata": {
  "kernelspec": {
   "display_name": "Python 2",
   "language": "python",
   "name": "python2"
  },
  "language_info": {
   "codemirror_mode": {
    "name": "ipython",
    "version": 2
   },
   "file_extension": ".py",
   "mimetype": "text/x-python",
   "name": "python",
   "nbconvert_exporter": "python",
   "pygments_lexer": "ipython2",
   "version": "2.7.6"
  }
 },
 "nbformat": 4,
 "nbformat_minor": 0
}
